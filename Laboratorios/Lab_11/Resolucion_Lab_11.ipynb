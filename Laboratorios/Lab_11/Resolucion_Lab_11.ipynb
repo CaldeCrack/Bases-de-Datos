{
  "cells": [
    {
      "cell_type": "markdown",
      "metadata": {
        "id": "OJCc5mm-pwll"
      },
      "source": [
        "# Laboratorio 11\n",
        "\n",
        "## Integrantes:\n",
        "- Alexander Sacchetti\n",
        "- Andrés Calderón\n",
        "- Felipe Fierro\n",
        "\n",
        "Para empezar a utilizar mongodb desde 0, vamos a partir realizando los siguientes pasos:\n",
        "\n",
        "\n",
        "1.   Instalaremos $\\texttt{mongodb}$\n",
        "2.   Inicializaremos el proceso $\\texttt{mongodb}$\n",
        "3.   Instalaremos el comando $\\texttt{gdown}$ para bajar la base de datos en formato json de google drive.\n",
        "4.   Importaremos los datos por linea de comando. Dejaremos los datos en la base de datos $\\texttt{local}$, en la colección $\\texttt{pokedex}$, y le informaremos al comando que los datos vienen como una arreglo de jsons.\n",
        "\n",
        "\n"
      ]
    },
    {
      "cell_type": "code",
      "execution_count": 1,
      "metadata": {
        "colab": {
          "base_uri": "https://localhost:8080/"
        },
        "id": "1DR_TXRmPvdV",
        "outputId": "812832f8-cb5f-4111-c80f-8ad274a11377"
      },
      "outputs": [
        {
          "name": "stdout",
          "output_type": "stream",
          "text": [
            "deb [ arch=amd64,arm64 signed-by=/usr/share/keyrings/mongodb-server-7.0.gpg ]    https://repo.mongodb.org/apt/ubuntu jammy/mongodb-org/7.0 multiverse\n",
            "Get:1 https://cloud.r-project.org/bin/linux/ubuntu jammy-cran40/ InRelease [3,626 B]\n",
            "Ign:2 https://repo.mongodb.org/apt/ubuntu jammy/mongodb-org/7.0 InRelease\n",
            "Get:3 https://developer.download.nvidia.com/compute/cuda/repos/ubuntu2204/x86_64  InRelease [1,581 B]\n",
            "Get:4 https://cloud.r-project.org/bin/linux/ubuntu jammy-cran40/ Packages [47.2 kB]\n",
            "Get:5 https://developer.download.nvidia.com/compute/cuda/repos/ubuntu2204/x86_64  Packages [632 kB]\n",
            "Get:6 https://repo.mongodb.org/apt/ubuntu jammy/mongodb-org/7.0 Release [2,090 B]\n",
            "Hit:7 http://archive.ubuntu.com/ubuntu jammy InRelease\n",
            "Get:8 https://repo.mongodb.org/apt/ubuntu jammy/mongodb-org/7.0 Release.gpg [866 B]\n",
            "Get:9 http://security.ubuntu.com/ubuntu jammy-security InRelease [110 kB]\n",
            "Get:10 http://archive.ubuntu.com/ubuntu jammy-updates InRelease [119 kB]\n",
            "Get:11 https://repo.mongodb.org/apt/ubuntu jammy/mongodb-org/7.0/multiverse arm64 Packages [19.0 kB]\n",
            "Hit:12 http://archive.ubuntu.com/ubuntu jammy-backports InRelease\n",
            "Get:13 https://repo.mongodb.org/apt/ubuntu jammy/mongodb-org/7.0/multiverse amd64 Packages [20.0 kB]\n",
            "Get:14 https://ppa.launchpadcontent.net/c2d4u.team/c2d4u4.0+/ubuntu jammy InRelease [18.1 kB]\n",
            "Get:15 http://archive.ubuntu.com/ubuntu jammy-updates/restricted amd64 Packages [1,498 kB]\n",
            "Hit:16 https://ppa.launchpadcontent.net/deadsnakes/ppa/ubuntu jammy InRelease\n",
            "Get:17 https://ppa.launchpadcontent.net/graphics-drivers/ppa/ubuntu jammy InRelease [24.3 kB]\n",
            "Get:18 http://archive.ubuntu.com/ubuntu jammy-updates/main amd64 Packages [1,521 kB]\n",
            "Get:19 http://security.ubuntu.com/ubuntu jammy-security/main amd64 Packages [1,250 kB]\n",
            "Get:20 http://archive.ubuntu.com/ubuntu jammy-updates/universe amd64 Packages [1,287 kB]\n",
            "Hit:21 https://ppa.launchpadcontent.net/ubuntugis/ppa/ubuntu jammy InRelease\n",
            "Get:22 https://ppa.launchpadcontent.net/c2d4u.team/c2d4u4.0+/ubuntu jammy/main Sources [2,244 kB]\n",
            "Get:23 http://security.ubuntu.com/ubuntu jammy-security/restricted amd64 Packages [1,472 kB]\n",
            "Get:24 http://security.ubuntu.com/ubuntu jammy-security/universe amd64 Packages [1,016 kB]\n",
            "Get:25 https://ppa.launchpadcontent.net/c2d4u.team/c2d4u4.0+/ubuntu jammy/main amd64 Packages [1,152 kB]\n",
            "Get:26 https://ppa.launchpadcontent.net/graphics-drivers/ppa/ubuntu jammy/main amd64 Packages [39.5 kB]\n",
            "Fetched 12.5 MB in 2s (5,741 kB/s)\n",
            "Reading package lists... Done\n",
            "Building dependency tree... Done\n",
            "Reading state information... Done\n",
            "40 packages can be upgraded. Run 'apt list --upgradable' to see them.\n",
            "Reading package lists... Done\n",
            "Building dependency tree... Done\n",
            "Reading state information... Done\n",
            "The following additional packages will be installed:\n",
            "  mongodb-database-tools mongodb-mongosh mongodb-org-database mongodb-org-database-tools-extra\n",
            "  mongodb-org-mongos mongodb-org-server mongodb-org-shell mongodb-org-tools\n",
            "The following NEW packages will be installed:\n",
            "  mongodb-database-tools mongodb-mongosh mongodb-org mongodb-org-database\n",
            "  mongodb-org-database-tools-extra mongodb-org-mongos mongodb-org-server mongodb-org-shell\n",
            "  mongodb-org-tools\n",
            "0 upgraded, 9 newly installed, 0 to remove and 40 not upgraded.\n",
            "Need to get 162 MB of archives.\n",
            "After this operation, 530 MB of additional disk space will be used.\n",
            "Get:1 https://repo.mongodb.org/apt/ubuntu jammy/mongodb-org/7.0/multiverse amd64 mongodb-database-tools amd64 100.9.3 [51.9 MB]\n",
            "Get:2 https://repo.mongodb.org/apt/ubuntu jammy/mongodb-org/7.0/multiverse amd64 mongodb-mongosh amd64 2.1.0 [47.9 MB]\n",
            "Get:3 https://repo.mongodb.org/apt/ubuntu jammy/mongodb-org/7.0/multiverse amd64 mongodb-org-shell amd64 7.0.4 [2,986 B]\n",
            "Get:4 https://repo.mongodb.org/apt/ubuntu jammy/mongodb-org/7.0/multiverse amd64 mongodb-org-server amd64 7.0.4 [36.5 MB]\n",
            "Get:5 https://repo.mongodb.org/apt/ubuntu jammy/mongodb-org/7.0/multiverse amd64 mongodb-org-mongos amd64 7.0.4 [25.4 MB]\n",
            "Get:6 https://repo.mongodb.org/apt/ubuntu jammy/mongodb-org/7.0/multiverse amd64 mongodb-org-database-tools-extra amd64 7.0.4 [7,756 B]\n",
            "Get:7 https://repo.mongodb.org/apt/ubuntu jammy/mongodb-org/7.0/multiverse amd64 mongodb-org-database amd64 7.0.4 [3,426 B]\n",
            "Get:8 https://repo.mongodb.org/apt/ubuntu jammy/mongodb-org/7.0/multiverse amd64 mongodb-org-tools amd64 7.0.4 [2,768 B]\n",
            "Get:9 https://repo.mongodb.org/apt/ubuntu jammy/mongodb-org/7.0/multiverse amd64 mongodb-org amd64 7.0.4 [2,802 B]\n",
            "Fetched 162 MB in 2s (82.4 MB/s)\n",
            "Selecting previously unselected package mongodb-database-tools.\n",
            "(Reading database ... 120880 files and directories currently installed.)\n",
            "Preparing to unpack .../0-mongodb-database-tools_100.9.3_amd64.deb ...\n",
            "Unpacking mongodb-database-tools (100.9.3) ...\n",
            "Selecting previously unselected package mongodb-mongosh.\n",
            "Preparing to unpack .../1-mongodb-mongosh_2.1.0_amd64.deb ...\n",
            "Unpacking mongodb-mongosh (2.1.0) ...\n",
            "Selecting previously unselected package mongodb-org-shell.\n",
            "Preparing to unpack .../2-mongodb-org-shell_7.0.4_amd64.deb ...\n",
            "Unpacking mongodb-org-shell (7.0.4) ...\n",
            "Selecting previously unselected package mongodb-org-server.\n",
            "Preparing to unpack .../3-mongodb-org-server_7.0.4_amd64.deb ...\n",
            "Unpacking mongodb-org-server (7.0.4) ...\n",
            "Selecting previously unselected package mongodb-org-mongos.\n",
            "Preparing to unpack .../4-mongodb-org-mongos_7.0.4_amd64.deb ...\n",
            "Unpacking mongodb-org-mongos (7.0.4) ...\n",
            "Selecting previously unselected package mongodb-org-database-tools-extra.\n",
            "Preparing to unpack .../5-mongodb-org-database-tools-extra_7.0.4_amd64.deb ...\n",
            "Unpacking mongodb-org-database-tools-extra (7.0.4) ...\n",
            "Selecting previously unselected package mongodb-org-database.\n",
            "Preparing to unpack .../6-mongodb-org-database_7.0.4_amd64.deb ...\n",
            "Unpacking mongodb-org-database (7.0.4) ...\n",
            "Selecting previously unselected package mongodb-org-tools.\n",
            "Preparing to unpack .../7-mongodb-org-tools_7.0.4_amd64.deb ...\n",
            "Unpacking mongodb-org-tools (7.0.4) ...\n",
            "Selecting previously unselected package mongodb-org.\n",
            "Preparing to unpack .../8-mongodb-org_7.0.4_amd64.deb ...\n",
            "Unpacking mongodb-org (7.0.4) ...\n",
            "Setting up mongodb-mongosh (2.1.0) ...\n",
            "Setting up mongodb-org-server (7.0.4) ...\n",
            "Adding system user `mongodb' (UID 104) ...\n",
            "Adding new user `mongodb' (UID 104) with group `nogroup' ...\n",
            "Not creating home directory `/home/mongodb'.\n",
            "Adding group `mongodb' (GID 107) ...\n",
            "Done.\n",
            "Adding user `mongodb' to group `mongodb' ...\n",
            "Adding user mongodb to group mongodb\n",
            "Done.\n",
            "System has not been booted with systemd as init system (PID 1). Can't operate.\n",
            "Failed to connect to bus: Host is down\n",
            "Setting up mongodb-org-shell (7.0.4) ...\n",
            "Setting up mongodb-database-tools (100.9.3) ...\n",
            "Setting up mongodb-org-mongos (7.0.4) ...\n",
            "Setting up mongodb-org-database-tools-extra (7.0.4) ...\n",
            "Setting up mongodb-org-database (7.0.4) ...\n",
            "Setting up mongodb-org-tools (7.0.4) ...\n",
            "Setting up mongodb-org (7.0.4) ...\n",
            "Processing triggers for man-db (2.10.2-1) ...\n",
            "about to fork child process, waiting until server is ready for connections.\n",
            "forked process: 1213\n",
            "child process started successfully, parent exiting\n",
            "Downloading...\n",
            "From: https://drive.google.com/uc?id=108aLE4mFE5bZYitFfX5c14Qj_aYA5MO_\n",
            "To: /content/pokedex.json\n",
            "100% 2.95M/2.95M [00:00<00:00, 19.1MB/s]\n",
            "2023-11-29T13:50:42.943+0000\tconnected to: mongodb://localhost/\n",
            "2023-11-29T13:50:43.146+0000\t809 document(s) imported successfully. 0 document(s) failed to import.\n",
            "Collecting pymongo\n",
            "  Downloading pymongo-4.6.0-cp310-cp310-manylinux_2_17_x86_64.manylinux2014_x86_64.whl (677 kB)\n",
            "\u001b[2K     \u001b[90m━━━━━━━━━━━━━━━━━━━━━━━━━━━━━━━━━━━━━━━━\u001b[0m \u001b[32m677.1/677.1 kB\u001b[0m \u001b[31m1.7 MB/s\u001b[0m eta \u001b[36m0:00:00\u001b[0m\n",
            "\u001b[?25hCollecting dnspython<3.0.0,>=1.16.0 (from pymongo)\n",
            "  Downloading dnspython-2.4.2-py3-none-any.whl (300 kB)\n",
            "\u001b[2K     \u001b[90m━━━━━━━━━━━━━━━━━━━━━━━━━━━━━━━━━━━━━━━━\u001b[0m \u001b[32m300.4/300.4 kB\u001b[0m \u001b[31m12.3 MB/s\u001b[0m eta \u001b[36m0:00:00\u001b[0m\n",
            "\u001b[?25hInstalling collected packages: dnspython, pymongo\n",
            "Successfully installed dnspython-2.4.2 pymongo-4.6.0\n"
          ]
        }
      ],
      "source": [
        "!wget -qO- \\\n",
        "  https://pgp.mongodb.com/server-7.0.asc | \\\n",
        "  gpg --dearmor | \\\n",
        "  sudo tee /usr/share/keyrings/mongodb-server-7.0.gpg >/dev/null\n",
        "!echo \"deb [ arch=amd64,arm64 signed-by=/usr/share/keyrings/mongodb-server-7.0.gpg ] \\\n",
        "  https://repo.mongodb.org/apt/ubuntu $(lsb_release -cs)/mongodb-org/7.0 multiverse\" | \\\n",
        "  sudo tee -a /etc/apt/sources.list.d/mongodb-org-7.0.list\n",
        "!apt update\n",
        "!apt install mongodb-org\n",
        "!mkdir /data\n",
        "!mkdir /data/db\n",
        "!mongod --fork --logpath /var/log/mongodb/mongod.log\n",
        "!gdown https://drive.google.com/uc?id=108aLE4mFE5bZYitFfX5c14Qj_aYA5MO_\n",
        "!mongoimport --db local --collection pokedex --jsonArray < pokedex.json\n",
        "!pip install pymongo"
      ]
    },
    {
      "cell_type": "code",
      "execution_count": 2,
      "metadata": {
        "colab": {
          "base_uri": "https://localhost:8080/"
        },
        "id": "k9qeta2OPyIE",
        "outputId": "ff8324be-78a9-4635-c6cd-787d6bcc03bf"
      },
      "outputs": [
        {
          "name": "stdout",
          "output_type": "stream",
          "text": [
            "deb [ arch=amd64,arm64 signed-by=/usr/share/keyrings/mongodb-server-7.0.gpg ]    https://repo.mongodb.org/apt/ubuntu jammy/mongodb-org/7.0 multiverse\n"
          ]
        }
      ],
      "source": [
        "!wget -qO- \\\n",
        "  https://pgp.mongodb.com/server-7.0.asc | \\\n",
        "  gpg --dearmor | \\\n",
        "  sudo tee /usr/share/keyrings/mongodb-server-7.0.gpg >/dev/null\n",
        "!echo \"deb [ arch=amd64,arm64 signed-by=/usr/share/keyrings/mongodb-server-7.0.gpg ] \\\n",
        "  https://repo.mongodb.org/apt/ubuntu $(lsb_release -cs)/mongodb-org/7.0 multiverse\" | \\\n",
        "  sudo tee -a /etc/apt/sources.list.d/mongodb-org-7.0.list"
      ]
    },
    {
      "cell_type": "markdown",
      "metadata": {
        "id": "fcy-Y8V9pqRS"
      },
      "source": [
        "A continuación importaremos la librería de mongo para python, crearemos un cliente que se conectara a $\\texttt{localhost}$ por defecto, nos conectaremos a la base local, y luego a la colección pokedex la cual almacenaremos en la variable $\\texttt{collection}$."
      ]
    },
    {
      "cell_type": "code",
      "execution_count": 3,
      "metadata": {
        "id": "-duLZ321nB6e"
      },
      "outputs": [],
      "source": [
        "from pymongo import MongoClient\n",
        "client = MongoClient()\n",
        "client.list_database_names() # ['admin', 'local']\n",
        "db = client['local']\n",
        "collection = db['pokedex']"
      ]
    },
    {
      "cell_type": "markdown",
      "metadata": {
        "id": "H1qnSiAzq5gm"
      },
      "source": [
        "Para partir, podemos listar toda la colección usando el comando $\\texttt{collection.find({})}$. Para no saturar la salida, nos limitaremos a mirar el primero de los registros."
      ]
    },
    {
      "cell_type": "code",
      "execution_count": null,
      "metadata": {
        "id": "8NX7SGoRpD2Q"
      },
      "outputs": [],
      "source": [
        "import pprint\n",
        "for pokemon in collection.find({}).limit(1):\n",
        "    pprint.pprint(pokemon)"
      ]
    },
    {
      "cell_type": "markdown",
      "metadata": {
        "id": "dLU42N8srWv_"
      },
      "source": [
        "Fijense que aparte de los datos básicos del pokemon, también se presentan las habilidades (una lista de strings), y los movimientos (un arreglo asociativo/diccionario de los movimientos y sus detalles).\n",
        "\n",
        "Si queremos ahora listar los pokemones que se llaman $\\texttt{Charmander}$ podemos hacer la siguiente consulta:"
      ]
    },
    {
      "cell_type": "code",
      "execution_count": null,
      "metadata": {
        "id": "BgYUDtAUtdkL"
      },
      "outputs": [],
      "source": [
        "for pokemon in collection.find({'Name': 'Charmander'}):\n",
        "    pprint.pprint(pokemon)"
      ]
    },
    {
      "cell_type": "markdown",
      "metadata": {
        "id": "djZYDni4vEHK"
      },
      "source": [
        "Y si queremos proyectar algunos de sus atributos lo hacemos tal como si fuera un diccionario:"
      ]
    },
    {
      "cell_type": "code",
      "execution_count": 6,
      "metadata": {
        "colab": {
          "base_uri": "https://localhost:8080/"
        },
        "id": "VdjGX_wyvMEZ",
        "outputId": "9a580c9d-30b3-46b4-d5e4-f805d7f74a87"
      },
      "outputs": [
        {
          "name": "stdout",
          "output_type": "stream",
          "text": [
            "100 ['Synchronize']\n"
          ]
        }
      ],
      "source": [
        "for pokemon in collection.find({'Name': 'Mew'}):\n",
        "    print(pokemon['Speed'],pokemon['Abilities'])"
      ]
    },
    {
      "cell_type": "markdown",
      "metadata": {
        "id": "I2VnDNwHuSxM"
      },
      "source": [
        "Recomendamos hechar un vistazo [aquí](https://docs.mongodb.com/manual/tutorial/query-documents/) para ver otros ejemplos de consultas que utilizarán en las siguientes preguntas:"
      ]
    },
    {
      "cell_type": "markdown",
      "metadata": {
        "id": "J_3DbzoAuvPu"
      },
      "source": [
        "#Pregunta 1\n",
        "Encuentre los nombre de los pokemons que pesen mas de 150kg.\n",
        "[Ordene](https://www.w3schools.com/python/python_mongodb_sort.asp) los resultados por peso descendiente"
      ]
    },
    {
      "cell_type": "code",
      "execution_count": null,
      "metadata": {
        "id": "FIYMF7BSsYM5"
      },
      "outputs": [],
      "source": [
        "for pokemon in collection.find({'Weight (kg)': {'$gt': 150}}).sort('Weight (kg)', -1):\n",
        "  print(pokemon['Name'])"
      ]
    },
    {
      "cell_type": "markdown",
      "metadata": {
        "id": "QbgODMWRzjcX"
      },
      "source": [
        "#Pregunta 2\n",
        "Encuentre los nombres de los pokemones ''Glass cannon'', que son los que tienen ataque sobre 120 y defensa bajo 50."
      ]
    },
    {
      "cell_type": "code",
      "execution_count": 17,
      "metadata": {
        "colab": {
          "base_uri": "https://localhost:8080/"
        },
        "id": "BAuRx2oZzwVf",
        "outputId": "a893acc5-a619-43d8-f7f6-48d2772354a6"
      },
      "outputs": [
        {
          "name": "stdout",
          "output_type": "stream",
          "text": [
            "Cranidos\n",
            "Pheromosa\n"
          ]
        }
      ],
      "source": [
        "for pokemon in collection.find({\n",
        "    'Attack': {'$gt': 120},\n",
        "    'Defense': {'$lt': 50}\n",
        "}):\n",
        "  print(pokemon['Name'])"
      ]
    },
    {
      "cell_type": "markdown",
      "metadata": {
        "id": "d7lB2vkh0yFq"
      },
      "source": [
        "#Pregunta 3\n",
        "Encuentre los pokemones \"defensivos\", que son los que tienen ya sea defensa, hp, o defensa especial (sp. defense) mayor o igual a 120."
      ]
    },
    {
      "cell_type": "code",
      "execution_count": null,
      "metadata": {
        "id": "A1UwKkaE0Qv3"
      },
      "outputs": [],
      "source": [
        "for pokemon in collection.find({\n",
        "    '$or': [{'HP': {'$gte': 120}}, {'Defense': {'$gte': 120}}, {'Sp. Defense': {'$gte': 120}}]\n",
        "}):\n",
        "  pprint.pprint(pokemon)"
      ]
    },
    {
      "cell_type": "markdown",
      "metadata": {
        "id": "vWKkWAl74R6O"
      },
      "source": [
        "#Pregunta 5\n",
        "Seleccione los pokemones que tienen el movimiento $\\texttt{Take Down}$ de nivel 15.\n",
        "\n",
        "**Hint**: Puede consultar en diccionarios embebidos concatenando las llaves con un punto \".\".\n",
        "\n",
        "Por ejemplo, para un dato:\n",
        "```\n",
        "[{\n",
        "  a: {\n",
        "    b: 'foo'\n",
        "  }\n",
        "}]\n",
        "```\n",
        "se puede consultar por los documentos tal que $\\texttt{b}$ sea $\\texttt{foo}$, escribiendo $\\texttt{collection.find({`a.b', `foo'})}$."
      ]
    },
    {
      "cell_type": "code",
      "execution_count": null,
      "metadata": {
        "id": "Y_cykeWb4DdT"
      },
      "outputs": [],
      "source": [
        "for pokemon in collection.find({\n",
        "    'Moves.Take Down.Level': 15\n",
        "}):\n",
        "  pprint.pprint(pokemon)"
      ]
    },
    {
      "cell_type": "markdown",
      "metadata": {
        "id": "MOD9S2hd2TNb"
      },
      "source": [
        "#Pregunta 4\n",
        "Seleccione los pokemones que tienen el movimiento $\\texttt{Take Down}$.\n",
        "\n",
        "**Hint**: Puede testear si es que una llave existe utilizando [$exists](https://docs.mongodb.com/manual/reference/operator/query/exists/)"
      ]
    },
    {
      "cell_type": "code",
      "execution_count": null,
      "metadata": {
        "id": "CnhaYoEQ1TyT"
      },
      "outputs": [],
      "source": [
        "for pokemon in collection.find({\n",
        "    'Moves.Take Down': {'$exists': True}\n",
        "}):\n",
        "  pprint.pprint(pokemon)"
      ]
    },
    {
      "cell_type": "markdown",
      "metadata": {
        "id": "fslrlRMV41jc"
      },
      "source": [
        "#Pregunta 5\n",
        "1. Seleccione los pokemones que tienen la habilidad $\\texttt{Telepathy}$\n"
      ]
    },
    {
      "cell_type": "code",
      "execution_count": 36,
      "metadata": {
        "id": "rIBpykKuENYH"
      },
      "outputs": [],
      "source": [
        "for pokemon in collection.find({\n",
        "    'Abilities': ['Telepathy']\n",
        "}):\n",
        "  pprint.pprint(pokemon)"
      ]
    },
    {
      "cell_type": "markdown",
      "metadata": {
        "id": "Qwxi9yxdEDo6"
      },
      "source": [
        "2. Seleccione los pokemones que tienen la habilidad $\\texttt{Telepathy}$\n",
        " **y** $\\texttt{Synchronize}$ (pueden tener mas habilidades aparte de estas dos.\n",
        "   \n",
        "   **Hint**: puede utilizar el operador [$all](https://docs.mongodb.com/manual/tutorial/query-arrays/) ."
      ]
    },
    {
      "cell_type": "code",
      "execution_count": 32,
      "metadata": {
        "colab": {
          "base_uri": "https://localhost:8080/"
        },
        "id": "oRIzCWC45HOb",
        "outputId": "5290a87f-480a-4eed-b935-574b5d01cd31"
      },
      "outputs": [
        {
          "name": "stdout",
          "output_type": "stream",
          "text": [
            "Ralts\n",
            "Kirlia\n",
            "Gardevoir\n",
            "Munna\n",
            "Musharna\n",
            "Elgyem\n",
            "Beheeyem\n"
          ]
        }
      ],
      "source": [
        "for pokemon in collection.find({\n",
        "    'Abilities': {'$all': ['Telepathy', 'Synchronize']}\n",
        "}):\n",
        "  print(pokemon['Name'])"
      ]
    },
    {
      "cell_type": "markdown",
      "metadata": {
        "id": "OXO4tdys9SuC"
      },
      "source": [
        "#Pregunta 6\n",
        "Para la siguiente pregunta vamos a crear un índice sobre la columna $\\texttt{Category}$."
      ]
    },
    {
      "cell_type": "code",
      "execution_count": 37,
      "metadata": {
        "colab": {
          "base_uri": "https://localhost:8080/",
          "height": 35
        },
        "id": "VM2gTzMA9-tl",
        "outputId": "b232fe8e-1a1c-46a5-e0b7-7e748124d485"
      },
      "outputs": [
        {
          "data": {
            "application/vnd.google.colaboratory.intrinsic+json": {
              "type": "string"
            },
            "text/plain": [
              "'Category_text'"
            ]
          },
          "execution_count": 37,
          "metadata": {},
          "output_type": "execute_result"
        }
      ],
      "source": [
        "collection.create_index([('Category', 'text')])"
      ]
    },
    {
      "cell_type": "markdown",
      "metadata": {
        "id": "_GhQq0Zc_Qbn"
      },
      "source": [
        "Usando el operador [$text](https://www.mongodb.com/docs/manual/reference/operator/query/text/#examples) responda a las siguientes consultas.\n",
        "1.  Devuelva los nombres y categorías de los pokemons tales que su categoría contenga ya sea la palabra **Sea** o **Gas**."
      ]
    },
    {
      "cell_type": "code",
      "execution_count": null,
      "metadata": {
        "id": "Y4W9G87Y9HzR"
      },
      "outputs": [],
      "source": [
        "for pokemon in collection.find({\n",
        "    '$text': {'$search': 'Sea Gas'}\n",
        "}):\n",
        "  print(pokemon['Name'], pokemon['Category'])"
      ]
    },
    {
      "cell_type": "markdown",
      "metadata": {
        "id": "m8PuYBiiCWwQ"
      },
      "source": [
        "2. Devuelva los nombres y categorías de los pokemons tales que su categoría contenga la palabra **Sea** y no **Deep**."
      ]
    },
    {
      "cell_type": "code",
      "execution_count": null,
      "metadata": {
        "id": "PHdr_c-XCjdZ"
      },
      "outputs": [],
      "source": [
        "for pokemon in collection.find({\n",
        "    '$text': {'$search': 'Sea -Deep'}\n",
        "}):\n",
        "  print(pokemon['Name'], pokemon['Category'])"
      ]
    },
    {
      "cell_type": "markdown",
      "metadata": {
        "id": "aaWgzFeSCrHN"
      },
      "source": [
        "3. Devuelva los nombres y categorías de los pokemons tales que su categoría contenga ambas palabras **Sea** y **Lion**."
      ]
    },
    {
      "cell_type": "code",
      "execution_count": 49,
      "metadata": {
        "colab": {
          "base_uri": "https://localhost:8080/"
        },
        "id": "_D0QACY5CqgJ",
        "outputId": "8fede7eb-0ca3-4274-d099-309459371b58"
      },
      "outputs": [
        {
          "name": "stdout",
          "output_type": "stream",
          "text": [
            "Popplio Sea Lion Pokémon\n",
            "Dewgong Sea Lion Pokémon\n",
            "Seel Sea Lion Pokémon\n"
          ]
        }
      ],
      "source": [
        "for pokemon in collection.find({\n",
        "    '$text': {'$search': '\\\"Sea\\\" \\\"Lion\\\"'}\n",
        "}):\n",
        "  print(pokemon['Name'], pokemon['Category'])"
      ]
    }
  ],
  "metadata": {
    "colab": {
      "provenance": []
    },
    "kernelspec": {
      "display_name": "Python 3",
      "name": "python3"
    },
    "language_info": {
      "name": "python"
    }
  },
  "nbformat": 4,
  "nbformat_minor": 0
}
